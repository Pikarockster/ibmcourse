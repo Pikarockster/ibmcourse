{
 "cells": [
  {
   "cell_type": "markdown",
   "id": "ab375d5c-c9c8-4ce7-9c27-6702096ee0e1",
   "metadata": {
    "tags": []
   },
   "source": [
    "## Data Science Tools and Ecosystem"
   ]
  },
  {
   "cell_type": "markdown",
   "id": "62b6160f-699a-4efb-b4c2-055d8f2a084c",
   "metadata": {},
   "source": [
    "In this notebook, Data Science Tools and Ecosystem are summarized."
   ]
  },
  {
   "cell_type": "markdown",
   "id": "37e36997-e56a-49dd-a516-e22a34610d73",
   "metadata": {},
   "source": [
    "Some of the objectives that will be covered are:\n",
    "- Popular language\n",
    "- Commonly used libraries\n",
    "- Data Science tools\n",
    "- Arithmetic equations"
   ]
  },
  {
   "cell_type": "markdown",
   "id": "e23ca7ba-35ed-4919-af4b-4ad90cb843d1",
   "metadata": {},
   "source": [
    "Some of the popular languages that Data Scientists use are:\n",
    "1. Julia\n",
    "2. Python\n",
    "3. R"
   ]
  },
  {
   "cell_type": "markdown",
   "id": "80c59ea0-c306-4c24-a90c-6967214b93a2",
   "metadata": {},
   "source": [
    "Some of the commonly used libraries used by Data Scientists include:\n",
    "1. NumPy\n",
    "2. Pandas\n",
    "3. Matplotlib"
   ]
  },
  {
   "cell_type": "markdown",
   "id": "63741516-36f9-42fe-8e3f-a8f1272f4c3d",
   "metadata": {
    "tags": []
   },
   "source": [
    "|Data Science Tools|\n",
    "|:-:|\n",
    "|RStudio|\n",
    "|Apache Spark|\n",
    "|Apache Hadoop|"
   ]
  },
  {
   "cell_type": "markdown",
   "id": "dce4f725-dafc-45ca-9094-7c3961fe69ba",
   "metadata": {
    "tags": []
   },
   "source": [
    "Below are a few examples of evaluating arithmetic expressions in Python"
   ]
  },
  {
   "cell_type": "code",
   "execution_count": 5,
   "id": "cf37ba2c-309f-4878-b348-517a58599016",
   "metadata": {
    "tags": []
   },
   "outputs": [
    {
     "data": {
      "text/plain": [
       "17"
      ]
     },
     "execution_count": 5,
     "metadata": {},
     "output_type": "execute_result"
    }
   ],
   "source": [
    "# This is a simple arithmetic expression to multiply then add integers.\n",
    "\n",
    "(3*4)+5"
   ]
  },
  {
   "cell_type": "code",
   "execution_count": 6,
   "id": "63bcf041-4c17-4412-9ba7-354d2c9a149c",
   "metadata": {
    "tags": []
   },
   "outputs": [
    {
     "data": {
      "text/plain": [
       "3.3333333333333335"
      ]
     },
     "execution_count": 6,
     "metadata": {},
     "output_type": "execute_result"
    }
   ],
   "source": [
    "# This will convert 200 minutes to hours by dividing by 60.\n",
    "\n",
    "200/60"
   ]
  },
  {
   "cell_type": "markdown",
   "id": "b3c95d82-884f-4fb7-8147-6d43016a69ed",
   "metadata": {},
   "source": [
    "## Author\n",
    "Koh Jia Hao"
   ]
  },
  {
   "cell_type": "code",
   "execution_count": null,
   "id": "55f404ac-183d-48aa-a7e4-c13fdfe5df42",
   "metadata": {},
   "outputs": [],
   "source": []
  }
 ],
 "metadata": {
  "kernelspec": {
   "display_name": "Python",
   "language": "python",
   "name": "conda-env-python-py"
  },
  "language_info": {
   "codemirror_mode": {
    "name": "ipython",
    "version": 3
   },
   "file_extension": ".py",
   "mimetype": "text/x-python",
   "name": "python",
   "nbconvert_exporter": "python",
   "pygments_lexer": "ipython3",
   "version": "3.7.12"
  }
 },
 "nbformat": 4,
 "nbformat_minor": 5
}
